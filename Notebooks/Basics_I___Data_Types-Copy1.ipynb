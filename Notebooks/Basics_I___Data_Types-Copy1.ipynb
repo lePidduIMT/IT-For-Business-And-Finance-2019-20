{
 "cells": [
  {
   "cell_type": "markdown",
   "metadata": {},
   "source": [
    "# Basics I - Syntax and types"
   ]
  },
  {
   "cell_type": "markdown",
   "metadata": {},
   "source": [
    "**Author**: \n",
    "- [Gabriele Pompa](https://www.linkedin.com/in/gabrielepompa/): gabriele.pompa@unisi.com\n",
    "- [Giuseppe Trapani](https://www.linkedin.com/in/giuseppe-trapani-73889471/): giuseppe.trapani@unisi.com - trpgsp@gmail.com"
   ]
  },
  {
   "cell_type": "markdown",
   "metadata": {},
   "source": [
    "# Table of contents\n",
    "\n",
    "[Executive Summary](#summary)\n",
    "1. [Names and Values](#names_and_values)\n",
    "2. [Expressions and Operators](#expressions_and_operators)\n",
    "3. [Built-in Data Types and Operators](#data_types_and_operators)\\\n",
    "    3.1 [Booleans and flow control](#bool)\\\n",
    "    A. [`if` statement](#if)\\\n",
    "    B. [`while` loop](#while)\n",
    "    \n",
    "\n",
    "    3.2 [Integers](#int)\\\n",
    "    3.3 [Floats](#float)\\\n",
    "    3.4 [Strings](#str)\n"
   ]
  },
  {
   "cell_type": "markdown",
   "metadata": {},
   "source": [
    "### **Resources**: \n",
    "\n",
    "- [_Python for Finance (2nd ed.)_](http://shop.oreilly.com/product/0636920117728.do): Sec. 3.Basic Data Types (Section 3.Excursus: Regular Expression is optional)\n",
    "- [_The Python Tutorial_](https://docs.python.org/3.7/tutorial/): Sec. [3.1.1](https://docs.python.org/3.7/tutorial/introduction.html#numbers) (Numbers), [3.1.2](https://docs.python.org/3.7/tutorial/introduction.html#strings) (Strings), [3.2](https://docs.python.org/3.7/tutorial/introduction.html#first-steps-towards-programming) (First Steps Toward Programming), [4.1](https://docs.python.org/3.7/tutorial/controlflow.html#if-statements) (if Statements)"
   ]
  },
  {
   "cell_type": "markdown",
   "metadata": {},
   "source": [
    "# Executive Summary <a name=\"summary\"></a>"
   ]
  },
  {
   "cell_type": "markdown",
   "metadata": {},
   "source": [
    "In this lecture we will informally present the main actors of Python, that is \n",
    "\n",
    "* statements\n",
    "* expressions \n",
    "* values\n",
    "* names\n",
    "* operators\n",
    "\n",
    "We will see in practice the act of binding _values_ to _names_ otherwise known as \"variables assignment\" and then move to describe the basic _types_. Informally, the _type_ of a variable is related to the amount of bits that are reserved in memory to store it but way more importantly, the type of a variable constrains the operations you can perform on its values what said operations return."
   ]
  },
  {
   "cell_type": "markdown",
   "metadata": {},
   "source": [
    "# 1. Names and Values <a name=\"names_and_values\"></a>"
   ]
  },
  {
   "cell_type": "markdown",
   "metadata": {},
   "source": [
    "All data represented in digital form is stored in computer's [Random Access Memory](https://en.wikipedia.org/wiki/Random-access_memory), the RAM. In order for your applications to retrieve it, RAM locations are assigned an address. \n",
    "\n",
    "High level languages like Python allow you to assign a _name_ to such addresses: this way you can immediately understand what you are storing."
   ]
  },
  {
   "cell_type": "markdown",
   "metadata": {},
   "source": [
    "**Statements** are instructions that Python interpreter can execute.\\\n",
    "**Expressions** are combinations of values, operators and (why not?) other expressions that can be _evaluated_. Evaluating an expression returns a _value_."
   ]
  },
  {
   "cell_type": "markdown",
   "metadata": {},
   "source": [
    "Assigning a _value_ to a _name_ is a statement and it can be done using the ```=``` operator."
   ]
  },
  {
   "cell_type": "code",
   "execution_count": 4,
   "metadata": {},
   "outputs": [],
   "source": [
    "one_hundred = 100\n",
    "two_hundred = 100\n",
    "skill = 1337"
   ]
  },
  {
   "cell_type": "code",
   "execution_count": 108,
   "metadata": {},
   "outputs": [],
   "source": [
    "name_of_my_variable = 1000"
   ]
  },
  {
   "cell_type": "code",
   "execution_count": 110,
   "metadata": {},
   "outputs": [],
   "source": [
    "name_for_example = 12341"
   ]
  },
  {
   "cell_type": "markdown",
   "metadata": {},
   "source": [
    "Main message here : the _name_ as a simple address to a storage. The _value_ is what you place into the storage."
   ]
  },
  {
   "cell_type": "code",
   "execution_count": 357,
   "metadata": {},
   "outputs": [],
   "source": [
    "a, b = 2, 3"
   ]
  },
  {
   "cell_type": "markdown",
   "metadata": {},
   "source": [
    "# 2. Expressions and Operators <a name=\"expressions_and_operators\"></a>"
   ]
  },
  {
   "cell_type": "markdown",
   "metadata": {},
   "source": [
    "As said, expressions are combinations of values and **operators**.\\\n",
    "Operators combine expressions once they are evaluated, but what they actually do depends on their specific **implementation**, which in turn depends on the actual **type** of value on which they are applied."
   ]
  },
  {
   "cell_type": "markdown",
   "metadata": {},
   "source": [
    "Let's see some abstract examples:\n",
    "\n",
    "- Adding two ```real``` numbers returns another ```real``` number\n",
    "- Adding two ```characters``` returns a ```word```\n",
    "- Dividing ```integer``` numbers returns a ```rational``` number \n",
    "- Dividing ```integer``` numbers returns **two** ```integer``` numbers (and they are...)\n",
    "- Comparing two ```integer``` numbers with the ```<``` operator returns 1 if the first is less than the second and 0 otherwise\n",
    "- Comparing two ```words``` with the ```>``` returns 1 if the first is longer (i.e. is made of more characters) than the second and 0 otherwise"
   ]
  },
  {
   "cell_type": "code",
   "execution_count": 16,
   "metadata": {},
   "outputs": [
    {
     "data": {
      "text/plain": [
       "200"
      ]
     },
     "execution_count": 16,
     "metadata": {},
     "output_type": "execute_result"
    }
   ],
   "source": [
    "100 + 100"
   ]
  },
  {
   "cell_type": "code",
   "execution_count": 17,
   "metadata": {},
   "outputs": [
    {
     "data": {
      "text/plain": [
       "'ab'"
      ]
     },
     "execution_count": 17,
     "metadata": {},
     "output_type": "execute_result"
    }
   ],
   "source": [
    "'a' + 'b'"
   ]
  },
  {
   "cell_type": "code",
   "execution_count": 18,
   "metadata": {},
   "outputs": [
    {
     "data": {
      "text/plain": [
       "110"
      ]
     },
     "execution_count": 18,
     "metadata": {},
     "output_type": "execute_result"
    }
   ],
   "source": [
    "name1 = 10\n",
    "name2 = 100\n",
    "name1 + name2"
   ]
  },
  {
   "cell_type": "markdown",
   "metadata": {},
   "source": [
    "The strongest power granted by languages like Python is that of **implementing your own types and what happens when operators are applied to them or between other types and your types**. This is called **object-oriented programming** and we will see the main benefits in the last part of the course."
   ]
  },
  {
   "cell_type": "markdown",
   "metadata": {},
   "source": [
    "# 3. Built-in Data Types and Operators <a name=\"data_types\"></a>"
   ]
  },
  {
   "cell_type": "markdown",
   "metadata": {},
   "source": [
    "From now on let's use the word _variable_ when referring to _names_.\n",
    "\n",
    "The Python interpreter infers at run-time the type of a variable: **you don't need to declare it in advance**.\n",
    "\n",
    "We say that Python is a _dynamically typed_ language. This is in contrast with other - compiled - languages, like C or C++, where the type of a variable has to be declared along with the variable identifier (that is, its _name_ ). These languages are _statically typed_.\n",
    "\n",
    "What's the point of \"knowing\" the type of the variable for the interpreter? Recall that the type of the variable \n",
    "- (IMPORTANT) constrains what the operators will actually do to the value\n",
    "- (IMPORTANT BUT WE DON'T CARE) might require more or less memory to store that value"
   ]
  },
  {
   "cell_type": "markdown",
   "metadata": {},
   "source": [
    "Every programming language comes with a set of built-in types and operators. Here you will find the [official reference](https://docs.python.org/3/library/stdtypes.html) you can always revert back when in doubt and [another one](https://www.w3schools.com/python/python_operators.asp) that is shorter and straight to the point."
   ]
  },
  {
   "cell_type": "markdown",
   "metadata": {},
   "source": [
    "Let's start by reviewing some of the built-in scalar types."
   ]
  },
  {
   "cell_type": "markdown",
   "metadata": {},
   "source": [
    "## 3.1 Booleans and flow control <a name=\"bool\"></a>"
   ]
  },
  {
   "cell_type": "markdown",
   "metadata": {},
   "source": [
    "Logical states like `True` and `False` are represented in Python as `bool` data type."
   ]
  },
  {
   "cell_type": "markdown",
   "metadata": {},
   "source": [
    "The output of a _comparison_ operator\n",
    "\n",
    "- `<` (smaller than), \n",
    "- `>` (greater than), \n",
    "- `<=` (smaller or equal than), \n",
    "- `>=` (greater or equal than), \n",
    "- `==` (equal to), \n",
    "- `!=` (not equal to)\n",
    "\n",
    "is a boolean value. We will review them later once we get some interesting types to compare!"
   ]
  },
  {
   "cell_type": "code",
   "execution_count": 114,
   "metadata": {},
   "outputs": [],
   "source": [
    "a = True\n",
    "b = False"
   ]
  },
  {
   "cell_type": "markdown",
   "metadata": {},
   "source": [
    "_Logical operators_ \n",
    "- `and` (logic and), \n",
    "- `or` (logic or), \n",
    "- `not` (logic not)\n",
    "\n",
    "are used to combine boolean values and return boolean values as output, you can find more informations [here](https://en.wikipedia.org/wiki/Boolean_algebra#Basic_operations)."
   ]
  },
  {
   "cell_type": "code",
   "execution_count": 247,
   "metadata": {},
   "outputs": [],
   "source": [
    "a = False\n",
    "b = True\n",
    "c = True\n",
    "d = False \n",
    "e = True"
   ]
  },
  {
   "cell_type": "code",
   "execution_count": 248,
   "metadata": {
    "tags": []
   },
   "outputs": [
    {
     "data": {
      "text/plain": [
       "False"
      ]
     },
     "execution_count": 248,
     "metadata": {},
     "output_type": "execute_result"
    }
   ],
   "source": [
    "a and b"
   ]
  },
  {
   "cell_type": "markdown",
   "metadata": {},
   "source": [
    "The one below is called \"Truth table\" and gives you the result of evaluating the expression \n",
    "```python\n",
    "a and b\n",
    "```\n",
    "depending on the input values of `a` and `b`\n",
    "\n",
    "| a | b | a and b\n",
    "| -------- | --------|  ----\n",
    "| False | False | False\n",
    "| False | True | False\n",
    "| True | False | False\n",
    "| True | True | True\n",
    "\n",
    "If you think about it, it's like \"plotting\" the function `y = and(a, b)` on a graph =).\n",
    "\n",
    "Try to reproduce the same outputs for the other two connectors."
   ]
  },
  {
   "cell_type": "code",
   "execution_count": 249,
   "metadata": {},
   "outputs": [
    {
     "data": {
      "text/plain": [
       "True"
      ]
     },
     "execution_count": 249,
     "metadata": {},
     "output_type": "execute_result"
    }
   ],
   "source": [
    "a or b"
   ]
  },
  {
   "cell_type": "code",
   "execution_count": 250,
   "metadata": {},
   "outputs": [
    {
     "data": {
      "text/plain": [
       "True"
      ]
     },
     "execution_count": 250,
     "metadata": {},
     "output_type": "execute_result"
    }
   ],
   "source": [
    "not a"
   ]
  },
  {
   "cell_type": "code",
   "execution_count": 251,
   "metadata": {},
   "outputs": [
    {
     "data": {
      "text/plain": [
       "False"
      ]
     },
     "execution_count": 251,
     "metadata": {},
     "output_type": "execute_result"
    }
   ],
   "source": [
    "not b"
   ]
  },
  {
   "cell_type": "markdown",
   "metadata": {},
   "source": [
    "### Operator precedence"
   ]
  },
  {
   "cell_type": "markdown",
   "metadata": {},
   "source": [
    "Also hear this short story on **operator precedence**: it's well known from mathematics that when you perform subsequent operations the result may vary depending on the order.\n",
    "\n",
    "Python expressions are evaluated from left to right and operators are bound to some precedence rules. For example:\n",
    "\n",
    "```python\n",
    "a = 10\n",
    "b = 5\n",
    "\n",
    "a + b * a\n",
    "60\n",
    "```\n",
    "you will get 60 because the product operator `*` has precedence over the addition `+` operator: that is python will perform `b * a` first obtaining 50 and then it will sum `a + 50` getting you 60.\n",
    "\n",
    "\n",
    "Now you can study operator precedence [here](https://www.mathcs.emory.edu/~valerie/courses/fall10/155/resources/op_precedence.html) _or_ you can use parenthesis just like in math: **statements inside parenthesis are grouped together and are evaluated before reducing the expression or concatenating the following operations**.\n",
    "\n",
    "```python\n",
    "a = 10\n",
    "b = 5\n",
    "\n",
    "(a + b) * a\n",
    "150\n",
    "```\n",
    "now you will get 150 because the expression inside the parenthesis is evaluated before going on with the rest of the expression!\n",
    "\n",
    "So the message is: **use parenthesis when you need longer expressions, the code is clearer and you avoid surprises**."
   ]
  },
  {
   "cell_type": "markdown",
   "metadata": {},
   "source": [
    "Now that you know about precedence, try to reproduce the Truth table for the following expressions:\n",
    "\n",
    "```python\n",
    "a and (b or c) and (e or b) and b\n",
    "\n",
    "(a and b) or (c and e) or (b and b)\n",
    "```"
   ]
  },
  {
   "cell_type": "markdown",
   "metadata": {},
   "source": [
    "### Flow control"
   ]
  },
  {
   "cell_type": "markdown",
   "metadata": {},
   "source": [
    "A couple of words on **flow control**: the flow of a computer program is the \"direction\" of the execution of the statements. In Python the flow runs from top to bottom, one statement at a time (well, one day we'll talk about [concurrency](https://en.wikipedia.org/wiki/Concurrency_(computer_science))).\n",
    "\n",
    "Some constructs of the language allow you to **skip** or **repeat** a group of statements. The most important thing is that you can skip or repeat this blocks of code based on the truth value of some boolean variables, also called **conditions**."
   ]
  },
  {
   "cell_type": "markdown",
   "metadata": {},
   "source": [
    "### A.```if``` statement <a name=\"if\"></a> - to skip blocks"
   ]
  },
  {
   "cell_type": "markdown",
   "metadata": {},
   "source": [
    "An [`if` statement](https://docs.python.org/3.7/tutorial/controlflow.html#if-statements) in Python is declared as follows:\n",
    "```python\n",
    "if condition:\n",
    "    statement_1\n",
    "    statement_2\n",
    "    statement_3\n",
    "elif alternative_condition_1:\n",
    "    statement_4\n",
    "    statement_5\n",
    "elif alternative_condition_2:\n",
    "    statement_6\n",
    "    statement_7\n",
    "else:\n",
    "    statement_else\n",
    "    \n",
    "statement_after_the_if\n",
    "```\n",
    "Here is how the flow goes, from top to bottom:\n",
    "\n",
    "The Python interpreter evaluates the logical `condition`, that can be any complex combination of booleans (as we saw before) that returns either `True` or `False`.\n",
    "\n",
    "If `condition` is `True`, then `statement_1`, `statement_2`, `statement_3` are executed in that order; all the following conditions will **never** be evaluated and the statements in their blocks will be ignored (that is `statement_4`, `statement_5`, `statement_6`, `statement_7`, `statement_else`) and the program goes directly to `statement_after_the_if`.\n",
    "\n",
    "If `condition` is `False` then its block is ignored (that is `statement_1`, `statement_2`, `statement_3` will never be executed) and the program can go on to the next condition: the Python interpreter evaluates the logical `alternative_condition_1`. Now it behaves exactly as before: if `alternative_condition_1` is `True` then `statement_4` and `statement_5` are executed in that order and the following blocks ignored (that is `statement_6`, `statement_7`, `statement_else` will never be executed) and the program goes directly to `statement_after_the_if`.\n",
    "\n",
    "If also `alternative_condition_1` is `False` then the program goes on to `alternative_condition_2` and again it behaves as before.\n",
    "\n",
    "Finally if `alternative_condition_2` is `False` the guard `else` is triggered and only `statement_else` will be executed before going to `statement_after_the_if`.\n",
    "\n",
    "Summing up, these are the rules:\n",
    "\n",
    "- The if-elif-else structure starts with `if` followed by an expression that returns a boolean.\n",
    "- After the first `if` you can add as many `elif` as you want, each one guarding an expression that returns a boolean.\n",
    "- If one of the conditions guarded by `if` or `elif` evaluates to `True`, the set of statetements indented after the guard is executed **and all the other ignored**\n",
    "- If none of the conditions guarded by `if` or `elif` evaluates to `True`, the statements indented after `else` are executed.\n",
    "\n",
    "Notice that:\n",
    "- the guards ends with a `:`, after which you have to go to the next line.\n",
    "- blocks belonging to one of the guards are **indented** (that is spaced from the previous line of code) by 4 spaces.\n",
    "- `elif` statement is optional and there can be more than one.\n",
    "- `else` statement is optional."
   ]
  },
  {
   "cell_type": "code",
   "execution_count": 220,
   "metadata": {},
   "outputs": [],
   "source": [
    "a = True\n",
    "b = False\n",
    "c = 0"
   ]
  },
  {
   "cell_type": "code",
   "execution_count": 221,
   "metadata": {},
   "outputs": [],
   "source": [
    "if (a and b):   ## evaluates (a and b) -> FALSE\n",
    "    c = 100      # no execution\n",
    "    name = 1823\n",
    "    name1 = 7777\n",
    "elif b:         ## evaluates b -> FALSE\n",
    "    c = 45       # no execution\n",
    "    name2 = 1123\n",
    "elif a:         ## evaluates a -> TRUE\n",
    "    c = 1337     # yayyyy execution\n",
    "    name3 = 8888\n",
    "else:            # NOPE\n",
    "    c = 99"
   ]
  },
  {
   "cell_type": "markdown",
   "metadata": {},
   "source": [
    "### B. ```while``` loop <a name=\"while\"></a> - to repeat blocks \n",
    "\n",
    "A [`while` loop](https://docs.python.org/3.7/tutorial/introduction.html#first-steps-towards-programming) in Python is declared as follows:\n",
    "```python\n",
    "while condition:\n",
    "    statement_1\n",
    "    statement_2\n",
    "    statement_3\n",
    "    \n",
    "statement_after_while\n",
    "```\n",
    "The Python interpreter evaluates the logical `condition` that again can be any combination of boolean expressions as long as it can be evaluated to either `True` or `False`.\n",
    "\n",
    "If it is `True` then `statement_1`, `statement_2`, `statement_3` are executed in that order. Then `condition` **is evaluated again** and, if `True`, then `statement_1`, `statement_2`, `statement_3` are **executed in that order again**. \n",
    "\n",
    "The loop keeps going like this and ends, finally evaluating `statement_after_while`, when (and if) `condition` becomes `False`.\n",
    "\n",
    "**Warning**: if `condition` never becomes `False`, you end up with an infinite loop, which will execute forever. Here is the **golden rule**: inside the loop there must be some statement that affects `condition`. "
   ]
  },
  {
   "cell_type": "code",
   "execution_count": 227,
   "metadata": {},
   "outputs": [],
   "source": [
    "a = True                \n",
    "number = 10"
   ]
  },
  {
   "cell_type": "code",
   "execution_count": 229,
   "metadata": {},
   "outputs": [],
   "source": [
    "while a:            # here a is evaluated -> TRUE, the loop can begin\n",
    "    number = 1      # statements are executed\n",
    "    a = False       # golden rule: something must affect the loop condition"
   ]
  },
  {
   "cell_type": "code",
   "execution_count": 232,
   "metadata": {},
   "outputs": [],
   "source": [
    "a = True\n",
    "b = True\n",
    "c = True\n",
    "\n",
    "number_1 = 10\n",
    "number_2 = 1"
   ]
  },
  {
   "cell_type": "code",
   "execution_count": 234,
   "metadata": {},
   "outputs": [],
   "source": [
    "while (a and b) or (b and c):         # condition is evaluated -> TRUE, the loop can begin\n",
    "    number_2 = number_1 + number_2    # statements are executed\n",
    "    b = False                         # golden rule: something must affect the loop condition"
   ]
  },
  {
   "cell_type": "markdown",
   "metadata": {},
   "source": [
    "## 3.2 Integers <a name=\"int\"></a>"
   ]
  },
  {
   "cell_type": "markdown",
   "metadata": {},
   "source": [
    "Integers are whole numbers and are represented in Python as `int` data type."
   ]
  },
  {
   "cell_type": "markdown",
   "metadata": {},
   "source": [
    "| Operator | On integers\n",
    "| -------- | --------|\n",
    "| `+` | Sum \n",
    "| `-` | Subtraction \n",
    "| `*` | Product\n",
    "| `**` | Exponentiation\n",
    "| `/` | Floating division\n",
    "| `//`| Integer division\n",
    "| `%` | Remainder of the integer division"
   ]
  },
  {
   "cell_type": "code",
   "execution_count": 296,
   "metadata": {},
   "outputs": [],
   "source": [
    "x = 19\n",
    "y = 8"
   ]
  },
  {
   "cell_type": "code",
   "execution_count": 297,
   "metadata": {},
   "outputs": [
    {
     "data": {
      "text/plain": [
       "2"
      ]
     },
     "execution_count": 297,
     "metadata": {},
     "output_type": "execute_result"
    }
   ],
   "source": [
    "x // y"
   ]
  },
  {
   "cell_type": "code",
   "execution_count": 298,
   "metadata": {},
   "outputs": [
    {
     "data": {
      "text/plain": [
       "11"
      ]
     },
     "execution_count": 298,
     "metadata": {},
     "output_type": "execute_result"
    }
   ],
   "source": [
    "x - y"
   ]
  },
  {
   "cell_type": "code",
   "execution_count": 299,
   "metadata": {},
   "outputs": [
    {
     "data": {
      "text/plain": [
       "4"
      ]
     },
     "execution_count": 299,
     "metadata": {},
     "output_type": "execute_result"
    }
   ],
   "source": [
    "2 ** 2"
   ]
  },
  {
   "cell_type": "code",
   "execution_count": 90,
   "metadata": {},
   "outputs": [
    {
     "data": {
      "text/plain": [
       "1.0"
      ]
     },
     "execution_count": 90,
     "metadata": {},
     "output_type": "execute_result"
    }
   ],
   "source": [
    "2.5 // 2.1"
   ]
  },
  {
   "cell_type": "code",
   "execution_count": 302,
   "metadata": {},
   "outputs": [
    {
     "data": {
      "text/plain": [
       "1"
      ]
     },
     "execution_count": 302,
     "metadata": {},
     "output_type": "execute_result"
    }
   ],
   "source": [
    "4 % 3"
   ]
  },
  {
   "cell_type": "markdown",
   "metadata": {},
   "source": [
    "Let's introduce our first function that we are going to use on numerical types: \n",
    "\n",
    "```python\n",
    "abs(x)\n",
    "```\n",
    "\n",
    "The function returns the absolute value of its argument, that is, the value always with a positive sign."
   ]
  },
  {
   "cell_type": "code",
   "execution_count": 304,
   "metadata": {},
   "outputs": [
    {
     "data": {
      "text/plain": [
       "1"
      ]
     },
     "execution_count": 304,
     "metadata": {},
     "output_type": "execute_result"
    }
   ],
   "source": [
    "negative_one = -1\n",
    "abs(negative_one)"
   ]
  },
  {
   "cell_type": "markdown",
   "metadata": {},
   "source": [
    "### Extra trivia on integers"
   ]
  },
  {
   "cell_type": "markdown",
   "metadata": {},
   "source": [
    "The amount of bits (i.e. computer memory) needed to store to an `int` depends on its value. For `n=10`, 4 bits are reserved. We can check this using the `.bit_length()` method of `int` variables."
   ]
  },
  {
   "cell_type": "code",
   "execution_count": 82,
   "metadata": {},
   "outputs": [],
   "source": [
    "n = 10"
   ]
  },
  {
   "cell_type": "code",
   "execution_count": 83,
   "metadata": {},
   "outputs": [
    {
     "data": {
      "text/plain": [
       "4"
      ]
     },
     "execution_count": 83,
     "metadata": {},
     "output_type": "execute_result"
    }
   ],
   "source": [
    "n.bit_length()"
   ]
  },
  {
   "cell_type": "markdown",
   "metadata": {},
   "source": [
    "Indeed, it's simple to see that (check this [decimal-to-binary converter](https://www.rapidtables.com/convert/number/decimal-to-binary.html))\n",
    "\n",
    "$$\n",
    "10 = (1 \\times 2^3) + (0 \\times 2^2) + (1 \\times 2^1) + (0 \\times 2^0) = 8 + 0 + 2 + 0\n",
    "$$\n",
    "\n",
    "therefore the 4 binary numbers (i.e. 0/1 bits) `1010` are sufficient to represent the integer number 10."
   ]
  },
  {
   "cell_type": "markdown",
   "metadata": {},
   "source": [
    "Python is very efficient in its internal representation of integer numbers as it can represent pretty big integers, like $10^{100}$ (named [Googol](https://en.wikipedia.org/wiki/Googol))"
   ]
  },
  {
   "cell_type": "code",
   "execution_count": 3,
   "metadata": {},
   "outputs": [
    {
     "name": "stdout",
     "output_type": "stream",
     "text": [
      "10000000000000000000000000000000000000000000000000000000000000000000000000000000000000000000000000000\n"
     ]
    }
   ],
   "source": [
    "googol = 10**100\n",
    "print(googol)"
   ]
  },
  {
   "cell_type": "code",
   "execution_count": 4,
   "metadata": {},
   "outputs": [
    {
     "data": {
      "text/plain": [
       "333"
      ]
     },
     "execution_count": 4,
     "metadata": {},
     "output_type": "execute_result"
    }
   ],
   "source": [
    "googol.bit_length()"
   ]
  },
  {
   "cell_type": "markdown",
   "metadata": {},
   "source": [
    "## 3.3 Floats <a name=\"float\"></a>"
   ]
  },
  {
   "cell_type": "markdown",
   "metadata": {},
   "source": [
    "Non-integers numbers, those with a fractional part, are represented in Python as `float` data type.\n",
    "\n",
    "Now, the short story is that `float` values are \"representations\" of rational numbers and real numbers, not always exact. This is due to how the computer internally represents such numbers. Such differences leads to some common errors that can be easily avoided and we will see how.\n",
    "\n",
    "If you want the long story, not really necessary but really interesting, you can go straight to the next paragraph."
   ]
  },
  {
   "cell_type": "markdown",
   "metadata": {},
   "source": [
    "| Operator | On floats\n",
    "| -------- | --------|\n",
    "| `+` | Sum \n",
    "| `-` | Subtraction \n",
    "| `*` | Product\n",
    "| `**` | Exponentiation\n",
    "| `/` | Floating division\n",
    "| `//`| Integer division\n",
    "| `%` | Remainder of the division"
   ]
  },
  {
   "cell_type": "code",
   "execution_count": 91,
   "metadata": {},
   "outputs": [],
   "source": [
    "x = 10.0\n",
    "y = 2.0\n",
    "q = 1/4"
   ]
  },
  {
   "cell_type": "code",
   "execution_count": 92,
   "metadata": {},
   "outputs": [
    {
     "data": {
      "text/plain": [
       "5.0"
      ]
     },
     "execution_count": 92,
     "metadata": {},
     "output_type": "execute_result"
    }
   ],
   "source": [
    "x // y"
   ]
  },
  {
   "cell_type": "code",
   "execution_count": 93,
   "metadata": {},
   "outputs": [
    {
     "data": {
      "text/plain": [
       "0.19999999999999973"
      ]
     },
     "execution_count": 93,
     "metadata": {},
     "output_type": "execute_result"
    }
   ],
   "source": [
    "2.3 % 2.1"
   ]
  },
  {
   "cell_type": "markdown",
   "metadata": {},
   "source": [
    "### Floating points arithmetic"
   ]
  },
  {
   "cell_type": "markdown",
   "metadata": {},
   "source": [
    "Computers cannot represent **exactly** some rational and real numbers. Those interested should read this short article directly from python's [official page](https://docs.python.org/3/tutorial/floatingpoint.html). To summarize at the extreme, it's a problem of space: some rational numbers have an infinite number of digits after the decimal point, for exampe $1/3 = 0.33333333333...$. Some others cannot even be represented as fractions, for example $\\pi, e, \\sqrt{2}$. This means you could end up needing an infinite amount of memory to store them correctly and this is clearly not possible.\n",
    "\n",
    "We are interested in the consequences of this, namely the infamous [round-off error](https://en.wikipedia.org/wiki/Round-off_error). "
   ]
  },
  {
   "cell_type": "code",
   "execution_count": 259,
   "metadata": {},
   "outputs": [
    {
     "data": {
      "text/plain": [
       "0.35"
      ]
     },
     "execution_count": 259,
     "metadata": {},
     "output_type": "execute_result"
    }
   ],
   "source": [
    "q = 0.25 + 0.1\n",
    "q"
   ]
  },
  {
   "cell_type": "code",
   "execution_count": 269,
   "metadata": {},
   "outputs": [
    {
     "data": {
      "text/plain": [
       "0.44999999999999996"
      ]
     },
     "execution_count": 269,
     "metadata": {},
     "output_type": "execute_result"
    }
   ],
   "source": [
    "q = 0.35 + 0.1  #should be 0.45\n",
    "q"
   ]
  },
  {
   "cell_type": "markdown",
   "metadata": {},
   "source": [
    "As you can see there is a tiny error there due to the approximation of the floating point numbers. Let's see common situations and their solutions"
   ]
  },
  {
   "cell_type": "markdown",
   "metadata": {},
   "source": [
    "#### Comparisons"
   ]
  },
  {
   "cell_type": "markdown",
   "metadata": {},
   "source": [
    "Say you placed a condition for an `if` statement that returns `True` when two `floats` are identical"
   ]
  },
  {
   "cell_type": "code",
   "execution_count": 310,
   "metadata": {},
   "outputs": [
    {
     "data": {
      "text/plain": [
       "0"
      ]
     },
     "execution_count": 310,
     "metadata": {},
     "output_type": "execute_result"
    }
   ],
   "source": [
    "target_value = 0.45\n",
    "result = 0.35 + 0.1\n",
    "\n",
    "income = 0\n",
    "\n",
    "if result == target_value:\n",
    "    income = 1000\n",
    "else:\n",
    "    income = 0\n",
    "\n",
    "income"
   ]
  },
  {
   "cell_type": "markdown",
   "metadata": {},
   "source": [
    "This is bad practice: due to rounding errors accumulated during computations, you can never really be sure that a `float` is equal to some number.\n",
    "\n",
    "What you can do is to check if their absolute difference is smaller than a **predetermined tolerance**. To compute the absolute value of a number remember the function \n",
    "```python\n",
    "abs(x)\n",
    "```"
   ]
  },
  {
   "cell_type": "code",
   "execution_count": 312,
   "metadata": {},
   "outputs": [
    {
     "data": {
      "text/plain": [
       "1000"
      ]
     },
     "execution_count": 312,
     "metadata": {},
     "output_type": "execute_result"
    }
   ],
   "source": [
    "tolerance = 0.0000001   # predetermined tolerance\n",
    "\n",
    "target_value = 0.45\n",
    "result = 0.35 + 0.1\n",
    "income = 0\n",
    "\n",
    "difference = result - target_value\n",
    "absolute_difference = abs(difference)\n",
    "\n",
    "if absolute_difference <= tolerance:\n",
    "    income = 1000\n",
    "else:\n",
    "    income = 0\n",
    "    \n",
    "income"
   ]
  },
  {
   "cell_type": "markdown",
   "metadata": {},
   "source": [
    "The same can be said when checking if a number is exactly equal to zero: the accumulation of errors may return a number that is very small but not zero. "
   ]
  },
  {
   "cell_type": "code",
   "execution_count": 315,
   "metadata": {},
   "outputs": [
    {
     "data": {
      "text/plain": [
       "0"
      ]
     },
     "execution_count": 315,
     "metadata": {},
     "output_type": "execute_result"
    }
   ],
   "source": [
    "computation = 0.1 + 0.1 + 0.1 - 0.3\n",
    "income = 0\n",
    "\n",
    "if computation == 0:\n",
    "    income = 1000\n",
    "else:\n",
    "    income = 0\n",
    "\n",
    "income"
   ]
  },
  {
   "cell_type": "markdown",
   "metadata": {},
   "source": [
    "See again how `computation` is a very small number but not actually zero therefore your comparison fails. Let's set up again a tolerance and perform a safe comparison:"
   ]
  },
  {
   "cell_type": "code",
   "execution_count": 317,
   "metadata": {},
   "outputs": [
    {
     "data": {
      "text/plain": [
       "1000"
      ]
     },
     "execution_count": 317,
     "metadata": {},
     "output_type": "execute_result"
    }
   ],
   "source": [
    "tolerance = 0.0000001   # predetermined tolerance\n",
    "\n",
    "computation = 0.1 + 0.1 + 0.1 - 0.3\n",
    "income = 0\n",
    "\n",
    "if abs(computation) <= tolerance:\n",
    "    income = 1000\n",
    "else:\n",
    "    income = 0\n",
    "income"
   ]
  },
  {
   "cell_type": "markdown",
   "metadata": {},
   "source": [
    "### Extra trivia on floating point numbers"
   ]
  },
  {
   "cell_type": "markdown",
   "metadata": {},
   "source": [
    "See the following example: $\\frac{1}{4}$ is represented _exactly_ as the `float` 0.25. This is because 0.25 has an exact (and obvious) binary representation in terms of fractions (negative powers of $2$):\n",
    "\n",
    "$$\n",
    "\\frac{1}{4} = (0 \\times 2^{0}) + (0 \\times 2^{-1}) + (1 \\times 2^{-2}) = \\left(0 \\times 1 \\right) + \\left(0 \\times \\frac{1}{2} \\right) + \\left(1 \\times \\frac{1}{4} \\right) = 0.25\n",
    "$$\n",
    "\n",
    "where the 0/1 bits associated to smaller powers of 2: $ 2^{-3}, 2^{-4}, ...$ are all zero."
   ]
  },
  {
   "cell_type": "markdown",
   "metadata": {},
   "source": [
    "Therefore, in a [_fixed-point_](https://en.wikipedia.org/wiki/Fixed-point_arithmetic) binary representation (that is a binary representation using a fixed number of bits after the decimal point '.', as the one above), the decimal number 0.25 can be represented as the binary number `0.01` (check this [decimal-to-binary converter](https://www.rapidtables.com/convert/number/decimal-to-binary.html)), that is using only the first two left-most bits after the '.' (which are the most significant)."
   ]
  },
  {
   "cell_type": "markdown",
   "metadata": {},
   "source": [
    "Binary representation of `float` numbers is not always _perfect_. That is, it's not alway true that a decimal number $0 < q < 1$ can be represented exactly as the series\n",
    "\n",
    "$$\n",
    "q = \\sum_{i=1}^{k} b_i \\times 2^{-i}\n",
    "$$\n",
    "\n",
    "where $b_i = 0/1$ is the $i$-th bit. In particular it can be that:\n",
    "\n",
    "- the series is infinite ($k = \\infty$);\n",
    "\n",
    "- the series requires more bits than those at disposal. That is, given a finite number of bits at disposal - say $k_{MAX}$ - it can be that $k > k_{MAX}$.\n",
    "\n",
    "In this last case, the best we can do is a _truncation_ of the series. That is, $q$ can will be approximately represented as \n",
    "\n",
    "$$\n",
    "q \\approx \\sum_{i=1}^{k_{MAX}} b_i \\times 2^{-i}\n",
    "$$\n"
   ]
  },
  {
   "cell_type": "markdown",
   "metadata": {},
   "source": [
    "In real life things are more complicated. In particular, The IEEE 754 [double-precision](https://en.wikipedia.org/wiki/Double-precision_floating-point_format) standard - currently adopted by modern 64-bits machines - reserves 64 bits to represent a decimal number, but bits are not simply associated to negative and decreasing powers of the base 2: $2^{-1}, 2^{-2}, ...$ as in the [fixed-point](https://en.wikipedia.org/wiki/Fixed-point_arithmetic) binary representation that we considered before. The IEEE 754 standard prescribes a [_floating-point_](https://en.wikipedia.org/wiki/Double-precision_floating-point_format) format, where the meaning and role of the bits in the binary representation changes depending on their position. In particular, for your knowledge (more informations in [Wikipedia](https://en.wikipedia.org/wiki/Double-precision_floating-point_format)):\n",
    "- 1 bit (the $1$st one) represents the _sign;_ \n",
    "- 11 bits (from the $2$nd to the $12$th) represent an _exponent;_ \n",
    "- 52 bits (from the $13$th to the last one) represet the _fractional part_."
   ]
  },
  {
   "cell_type": "markdown",
   "metadata": {},
   "source": [
    "This representation allows to represent a greater range of decimal numbers, given the same amount of bits at disposal (64). This increase in the range of number representable comes at the cost of precision. In the IEEE 754 double-precision standards, the relative accuracy is of 15-digits."
   ]
  },
  {
   "cell_type": "markdown",
   "metadata": {},
   "source": [
    "## 3.4 Strings <a name=\"str\"></a>"
   ]
  },
  {
   "cell_type": "markdown",
   "metadata": {},
   "source": [
    "| Operator | On string\n",
    "| -------- | --------|\n",
    "| `+` | Concatenation\n",
    "| `-` | NOT IMPLEMENTED\n",
    "| `*` | Repetition (only between string and integers)\n",
    "| `**` | NOT IMPLEMENTED\n",
    "| `/` | NOT IMPLEMENTED\n",
    "| `//`| NOT IMPLEMENTED\n",
    "| `%` | NOT IMPLEMENTED"
   ]
  },
  {
   "cell_type": "markdown",
   "metadata": {},
   "source": [
    "One or more text characters are represented in Python as [`str` data type](https://docs.python.org/3.7/tutorial/introduction.html#strings). Use the quotes `'this is a string'` or double-quotes `\"this is another string\"` to define a string. There is no preferred way, choose the one that fits for you and be consistent with it."
   ]
  },
  {
   "cell_type": "code",
   "execution_count": 107,
   "metadata": {},
   "outputs": [],
   "source": [
    "a_string = 'peppi is teaching IT for business and finance' "
   ]
  },
  {
   "cell_type": "code",
   "execution_count": 210,
   "metadata": {},
   "outputs": [],
   "source": [
    "my_name = 'Giuseppe'\n",
    "my_surname = 'Trapani'"
   ]
  },
  {
   "cell_type": "code",
   "execution_count": 213,
   "metadata": {},
   "outputs": [],
   "source": [
    "teacher_name = my_name + ' ' + my_surname"
   ]
  },
  {
   "cell_type": "code",
   "execution_count": 215,
   "metadata": {},
   "outputs": [],
   "source": [
    "some_letter = 'c'\n",
    "some_integer = 10"
   ]
  },
  {
   "cell_type": "code",
   "execution_count": 216,
   "metadata": {},
   "outputs": [
    {
     "data": {
      "text/plain": [
       "'cccccccccc'"
      ]
     },
     "execution_count": 216,
     "metadata": {},
     "output_type": "execute_result"
    }
   ],
   "source": [
    "some_letter * some_integer"
   ]
  },
  {
   "cell_type": "markdown",
   "metadata": {},
   "source": [
    "The type `str` is a bit more interesting than the previous ones because it implements some **methods**. Methods are simply functions (we will dive a bit later into functions) that can use the internal representation of the type we are considering.\n",
    "\n",
    "Everything \"coming out\" of the internal representation of a type is accessed by the ```.``` operator.\n",
    "\n",
    "See for example the method ```split()```:"
   ]
  },
  {
   "cell_type": "code",
   "execution_count": 320,
   "metadata": {},
   "outputs": [
    {
     "data": {
      "text/plain": [
       "['peppi', 'is', 'teaching', 'IT', 'for', 'business', 'and', 'finance']"
      ]
     },
     "execution_count": 320,
     "metadata": {},
     "output_type": "execute_result"
    }
   ],
   "source": [
    "a_string.split()"
   ]
  },
  {
   "cell_type": "markdown",
   "metadata": {},
   "source": [
    "Throught the course we will see that methods are everywhere. Let's come up with some documentation using the function\n",
    "```python\n",
    "help()\n",
    "```"
   ]
  },
  {
   "cell_type": "code",
   "execution_count": 328,
   "metadata": {},
   "outputs": [
    {
     "name": "stdout",
     "output_type": "stream",
     "text": [
      "Help on built-in function split:\n",
      "\n",
      "split(sep=None, maxsplit=-1) method of builtins.str instance\n",
      "    Return a list of the words in the string, using sep as the delimiter string.\n",
      "    \n",
      "    sep\n",
      "      The delimiter according which to split the string.\n",
      "      None (the default value) means split according to any whitespace,\n",
      "      and discard empty strings from the result.\n",
      "    maxsplit\n",
      "      Maximum number of splits to do.\n",
      "      -1 (the default value) means no limit.\n",
      "\n"
     ]
    }
   ],
   "source": [
    "help(a_string.split)"
   ]
  },
  {
   "cell_type": "markdown",
   "metadata": {},
   "source": [
    "The documentation describes briefly the output of a method as well as the extra parameters (called _arguments_) that can be passed to it in order to modify the results.\n",
    "\n",
    "We see from the previous description that method `split()` of a variable of type `str` returns a list of the words in the string and can accept an extra argument called `sep` that is the character on which you want to perform the split. If you call the method without specifying `sep`, the default character is the whitespace."
   ]
  },
  {
   "cell_type": "code",
   "execution_count": 329,
   "metadata": {},
   "outputs": [],
   "source": [
    "date_string = '2020-10-02'"
   ]
  },
  {
   "cell_type": "code",
   "execution_count": 331,
   "metadata": {},
   "outputs": [
    {
     "data": {
      "text/plain": [
       "['2020-10-02']"
      ]
     },
     "execution_count": 331,
     "metadata": {},
     "output_type": "execute_result"
    }
   ],
   "source": [
    "date_string.split()  # call the method without specifying sep; it will separate the string into substrings at each whitespace."
   ]
  },
  {
   "cell_type": "code",
   "execution_count": 330,
   "metadata": {},
   "outputs": [
    {
     "data": {
      "text/plain": [
       "['2020', '10', '02']"
      ]
     },
     "execution_count": 330,
     "metadata": {},
     "output_type": "execute_result"
    }
   ],
   "source": [
    "date_string.split(sep='-')  # now we specify sep as '-'"
   ]
  },
  {
   "cell_type": "code",
   "execution_count": 336,
   "metadata": {},
   "outputs": [
    {
     "data": {
      "text/plain": [
       "['2020-', '-02']"
      ]
     },
     "execution_count": 336,
     "metadata": {},
     "output_type": "execute_result"
    }
   ],
   "source": [
    "date_string.split(sep='10')  # notice how the sep argument can be more than one character long"
   ]
  },
  {
   "cell_type": "markdown",
   "metadata": {},
   "source": [
    "## Functions"
   ]
  },
  {
   "cell_type": "markdown",
   "metadata": {},
   "source": [
    "We already saw methods. One step forward we have functions. Functions are simply blocks of code that gets executed by the interpreter at the need (that is when it's \"called\"). Notice that this is a quite general definition and **it has pretty much nothing to do with mathematical functions**. Let's see the pieces:\n",
    "\n",
    "```python\n",
    "def function_name(argument_1, argument_2):\n",
    "    statement_1\n",
    "    statement_2\n",
    "    # maybe do something with the arguments and assign them to a variable called output, for example summing them\n",
    "    output = argument_1 + argument_2\n",
    "    return output\n",
    "```\n",
    "The main rules are the following:\n",
    "\n",
    "- The definition begins with the statement `def` (stands for _definition_)\n",
    "- You place arguments **internal names** in the (compulsory) parentheses the separated by commas\n",
    "- `:` and a-capo\n",
    "- The block of code is indented by 4 spaces\n",
    "\n",
    "Notice the following:\n",
    "\n",
    "- `function_name` must be a valid name as we saw for variables (no spaces, no initial digits)\n",
    "- if you already have a variable with the same name as `function_name`, it will be overwritten\n",
    "- if you declare another variable with the same name as `function_name`, the function will be overwritten\n",
    "- arguments are optional but the parentheses are\n",
    "- every variable declared **inside** the function will not be accessible from outside\n",
    "- every variable declared **before** the function will be accessible inside the function but doing it is very bad practice\n",
    "- the final `return` statement is optional and is used to \"pull\" variables outside of the function\n",
    "\n",
    "Let's see some example:"
   ]
  },
  {
   "cell_type": "code",
   "execution_count": 343,
   "metadata": {},
   "outputs": [],
   "source": [
    "def my_addition(addend_1, addend_2):\n",
    "    return addend_1 + addend_2"
   ]
  },
  {
   "cell_type": "code",
   "execution_count": 344,
   "metadata": {},
   "outputs": [
    {
     "data": {
      "text/plain": [
       "30"
      ]
     },
     "execution_count": 344,
     "metadata": {},
     "output_type": "execute_result"
    }
   ],
   "source": [
    "my_addition(10, 20)"
   ]
  },
  {
   "cell_type": "code",
   "execution_count": 345,
   "metadata": {},
   "outputs": [],
   "source": [
    "def my_unsafe_division(numerator, denominator):\n",
    "    return numerator / denominator"
   ]
  },
  {
   "cell_type": "code",
   "execution_count": 346,
   "metadata": {},
   "outputs": [
    {
     "ename": "ZeroDivisionError",
     "evalue": "division by zero",
     "output_type": "error",
     "traceback": [
      "\u001b[1;31m---------------------------------------------------------------------------\u001b[0m",
      "\u001b[1;31mZeroDivisionError\u001b[0m                         Traceback (most recent call last)",
      "\u001b[1;32m<ipython-input-346-822ceba98fe5>\u001b[0m in \u001b[0;36m<module>\u001b[1;34m\u001b[0m\n\u001b[1;32m----> 1\u001b[1;33m \u001b[0mmy_unsafe_division\u001b[0m\u001b[1;33m(\u001b[0m\u001b[1;36m10\u001b[0m\u001b[1;33m,\u001b[0m \u001b[1;36m0\u001b[0m\u001b[1;33m)\u001b[0m\u001b[1;33m\u001b[0m\u001b[1;33m\u001b[0m\u001b[0m\n\u001b[0m",
      "\u001b[1;32m<ipython-input-345-8271f2a0de31>\u001b[0m in \u001b[0;36mmy_unsafe_division\u001b[1;34m(numerator, denominator)\u001b[0m\n\u001b[0;32m      1\u001b[0m \u001b[1;32mdef\u001b[0m \u001b[0mmy_unsafe_division\u001b[0m\u001b[1;33m(\u001b[0m\u001b[0mnumerator\u001b[0m\u001b[1;33m,\u001b[0m \u001b[0mdenominator\u001b[0m\u001b[1;33m)\u001b[0m\u001b[1;33m:\u001b[0m\u001b[1;33m\u001b[0m\u001b[1;33m\u001b[0m\u001b[0m\n\u001b[1;32m----> 2\u001b[1;33m     \u001b[1;32mreturn\u001b[0m \u001b[0mnumerator\u001b[0m \u001b[1;33m/\u001b[0m \u001b[0mdenominator\u001b[0m\u001b[1;33m\u001b[0m\u001b[1;33m\u001b[0m\u001b[0m\n\u001b[0m",
      "\u001b[1;31mZeroDivisionError\u001b[0m: division by zero"
     ]
    }
   ],
   "source": [
    "my_unsafe_division(10, 0)"
   ]
  },
  {
   "cell_type": "code",
   "execution_count": 347,
   "metadata": {},
   "outputs": [],
   "source": [
    "def my_safe_division(numerator, denominator):\n",
    "    if denominator == 0:\n",
    "        return 0\n",
    "    else:\n",
    "        return numerator / denominator"
   ]
  },
  {
   "cell_type": "code",
   "execution_count": 352,
   "metadata": {},
   "outputs": [
    {
     "data": {
      "text/plain": [
       "0"
      ]
     },
     "execution_count": 352,
     "metadata": {},
     "output_type": "execute_result"
    }
   ],
   "source": [
    "my_safe_division(10.0, 0.0)"
   ]
  },
  {
   "cell_type": "code",
   "execution_count": 353,
   "metadata": {},
   "outputs": [
    {
     "data": {
      "text/plain": [
       "1.8014398509481984e+17"
      ]
     },
     "execution_count": 353,
     "metadata": {},
     "output_type": "execute_result"
    }
   ],
   "source": [
    "my_safe_division(10, 0.1+0.1+0.1-0.3)"
   ]
  },
  {
   "cell_type": "code",
   "execution_count": 355,
   "metadata": {},
   "outputs": [],
   "source": [
    "tolerance = 0.0000000001\n",
    "def my_even_safer_division(numerator, denominator):\n",
    "    if abs(denominator) < tolerance:\n",
    "        return 0\n",
    "    else:\n",
    "        return numerator / denominator"
   ]
  },
  {
   "cell_type": "code",
   "execution_count": 356,
   "metadata": {},
   "outputs": [
    {
     "data": {
      "text/plain": [
       "0"
      ]
     },
     "execution_count": 356,
     "metadata": {},
     "output_type": "execute_result"
    }
   ],
   "source": [
    "my_even_safer_division(10, 0.1 + 0.1 + 0.1 - 0.3)"
   ]
  },
  {
   "cell_type": "markdown",
   "metadata": {},
   "source": [
    "The take-home message here is pretty straight: functions are used to encapsulate parts of code that you often end up repeating along the flow of your application. "
   ]
  },
  {
   "cell_type": "code",
   "execution_count": null,
   "metadata": {},
   "outputs": [],
   "source": []
  },
  {
   "cell_type": "code",
   "execution_count": null,
   "metadata": {},
   "outputs": [],
   "source": []
  },
  {
   "cell_type": "code",
   "execution_count": null,
   "metadata": {},
   "outputs": [],
   "source": []
  },
  {
   "cell_type": "code",
   "execution_count": null,
   "metadata": {},
   "outputs": [],
   "source": []
  },
  {
   "cell_type": "code",
   "execution_count": null,
   "metadata": {},
   "outputs": [],
   "source": []
  },
  {
   "cell_type": "code",
   "execution_count": null,
   "metadata": {},
   "outputs": [],
   "source": []
  },
  {
   "cell_type": "code",
   "execution_count": null,
   "metadata": {},
   "outputs": [],
   "source": []
  },
  {
   "cell_type": "code",
   "execution_count": null,
   "metadata": {},
   "outputs": [],
   "source": []
  },
  {
   "cell_type": "code",
   "execution_count": null,
   "metadata": {},
   "outputs": [],
   "source": []
  }
 ],
 "metadata": {
  "kernelspec": {
   "display_name": "Python 3",
   "language": "python",
   "name": "python3"
  },
  "language_info": {
   "codemirror_mode": {
    "name": "ipython",
    "version": 3
   },
   "file_extension": ".py",
   "mimetype": "text/x-python",
   "name": "python",
   "nbconvert_exporter": "python",
   "pygments_lexer": "ipython3",
   "version": "3.8.8"
  }
 },
 "nbformat": 4,
 "nbformat_minor": 4
}
